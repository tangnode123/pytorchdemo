{
 "cells": [
  {
   "cell_type": "code",
   "execution_count": 2,
   "outputs": [],
   "source": [
    "import torch\n",
    "from torch import nn\n",
    "from torch.nn import functional as F"
   ],
   "metadata": {
    "collapsed": false,
    "ExecuteTime": {
     "start_time": "2024-03-30T10:59:04.146922Z",
     "end_time": "2024-03-30T10:59:06.106692Z"
    }
   }
  },
  {
   "cell_type": "code",
   "execution_count": 3,
   "outputs": [],
   "source": [
    "class DomBlock(nn.Module):\n",
    "    def __init__(self, input_channels,num_channels, use_1x1conv=False, strides=1):\n",
    "        super(DomBlock, self).__init__()\n",
    "        self.conv_x = nn.Conv2d(input_channels, num_channels, kernel_size=3, padding=1, stride=strides)\n",
    "        self.conv_y = nn.Conv2d(num_channels, num_channels, kernel_size=3, padding=1, stride=strides)\n",
    "        self.conv_z = nn.Conv2d(num_channels, num_channels, kernel_size=3, padding=1, stride=strides)\n",
    "        if use_1x1conv:\n",
    "            self.conv3 = nn.Conv2d(input_channels,num_channels,kernel_size=1,stride=strides)\n",
    "        else:\n",
    "            self.conv3= None\n",
    "        self.bn1=nn.BatchNorm2d(num_channels)\n",
    "        self.bn2=nn.BatchNorm2d(num_channels)\n",
    "        self.bn3=nn.BatchNorm2d(num_channels)\n",
    "    def forward(self,X):\n",
    "        x=F.relu(self.bn1(self.conv_x(X)))\n",
    "        y=F.relu(self.bn1(self.conv_y(x)))\n",
    "        z=F.relu(self.bn1(self.conv_z(x)))\n",
    "        print(x.shape,y.shape,z.shape)\n",
    "        return x\n",
    "    def skyline_dominate(self,x,y,z):\n",
    "        return x\n"
   ],
   "metadata": {
    "collapsed": false,
    "ExecuteTime": {
     "start_time": "2024-03-30T10:59:06.797341Z",
     "end_time": "2024-03-30T10:59:06.813719Z"
    }
   }
  },
  {
   "cell_type": "code",
   "execution_count": 5,
   "outputs": [
    {
     "name": "stdout",
     "output_type": "stream",
     "text": [
      "tensor([[[[0.3641, 1.3794, 1.1862,  ..., 0.1757, 0.1041, 0.3215],\n",
      "          [1.3870, 2.6554, 0.0174,  ..., 2.2935, 0.4803, 1.7849],\n",
      "          [0.9979, 1.2346, 0.0000,  ..., 1.2782, 0.2248, 1.1067],\n",
      "          ...,\n",
      "          [0.4052, 0.0301, 0.9557,  ..., 0.0000, 1.3163, 0.0000],\n",
      "          [0.9830, 0.9544, 0.8231,  ..., 0.8946, 0.9313, 1.3335],\n",
      "          [1.0894, 0.7012, 0.0493,  ..., 0.9380, 0.8501, 0.8446]],\n",
      "\n",
      "         [[0.0000, 0.2812, 0.0000,  ..., 0.0000, 0.0000, 0.0000],\n",
      "          [1.0585, 1.1701, 0.0000,  ..., 0.6211, 2.0959, 0.0206],\n",
      "          [0.6042, 0.3117, 0.6613,  ..., 0.9495, 1.4239, 0.4686],\n",
      "          ...,\n",
      "          [0.5958, 0.3385, 1.2578,  ..., 2.4571, 1.6134, 1.7808],\n",
      "          [0.0974, 0.1750, 0.0000,  ..., 2.2238, 0.2403, 0.0000],\n",
      "          [0.4497, 0.0000, 0.6896,  ..., 0.0000, 1.0138, 0.0000]],\n",
      "\n",
      "         [[2.0728, 1.9250, 0.0394,  ..., 0.0000, 1.7134, 0.0484],\n",
      "          [0.7158, 0.3014, 0.0000,  ..., 0.9068, 1.7421, 0.0000],\n",
      "          [2.1695, 0.4758, 0.0284,  ..., 0.0000, 1.6100, 0.5196],\n",
      "          ...,\n",
      "          [0.6627, 0.6920, 0.9603,  ..., 0.9472, 1.1675, 0.0000],\n",
      "          [2.0585, 0.9193, 1.2225,  ..., 0.2580, 0.5064, 0.0000],\n",
      "          [1.3945, 1.3111, 0.7510,  ..., 1.2401, 3.1646, 0.0000]],\n",
      "\n",
      "         ...,\n",
      "\n",
      "         [[1.6290, 0.7566, 0.5605,  ..., 0.0881, 1.0807, 0.6756],\n",
      "          [1.8253, 0.2589, 0.0907,  ..., 0.0000, 0.3764, 0.7328],\n",
      "          [0.8984, 0.4937, 0.1056,  ..., 0.5990, 0.0000, 0.0902],\n",
      "          ...,\n",
      "          [0.5746, 0.7125, 0.7689,  ..., 3.0663, 1.8339, 1.0654],\n",
      "          [1.2658, 0.9186, 2.4886,  ..., 0.6349, 0.9292, 0.5919],\n",
      "          [1.3994, 1.1806, 1.2620,  ..., 1.6466, 1.5244, 0.4282]],\n",
      "\n",
      "         [[1.8296, 0.8215, 1.0835,  ..., 1.2985, 1.3025, 0.5560],\n",
      "          [1.1877, 1.8879, 2.8032,  ..., 1.3290, 0.9948, 2.1261],\n",
      "          [1.0464, 0.6770, 1.8825,  ..., 0.3104, 0.9646, 0.0000],\n",
      "          ...,\n",
      "          [1.0873, 1.4411, 1.1628,  ..., 0.0000, 1.0439, 0.7075],\n",
      "          [0.7392, 1.3646, 2.2649,  ..., 1.2724, 1.3322, 1.4951],\n",
      "          [1.3177, 1.8858, 0.1932,  ..., 1.5551, 0.9435, 2.5405]],\n",
      "\n",
      "         [[0.6352, 0.3505, 1.7545,  ..., 0.8084, 0.0000, 0.0000],\n",
      "          [2.0830, 0.9243, 2.9690,  ..., 0.7145, 0.5193, 0.8596],\n",
      "          [0.2756, 0.3632, 0.1747,  ..., 1.8632, 0.2901, 0.0000],\n",
      "          ...,\n",
      "          [0.8918, 1.0686, 1.7206,  ..., 0.1554, 0.0000, 0.6764],\n",
      "          [1.4720, 0.5515, 1.7646,  ..., 0.5141, 0.5044, 0.2671],\n",
      "          [0.8968, 1.7853, 0.9585,  ..., 1.5238, 1.1217, 0.0133]]]],\n",
      "       grad_fn=<ReluBackward0>)\n"
     ]
    }
   ],
   "source": [
    "x=torch.rand(1,3,32,32)\n",
    "model=DomBlock(3,64)\n",
    "model(x)"
   ],
   "metadata": {
    "collapsed": false,
    "ExecuteTime": {
     "start_time": "2024-03-30T11:11:06.777189Z",
     "end_time": "2024-03-30T11:11:11.379255Z"
    }
   }
  },
  {
   "cell_type": "code",
   "execution_count": null,
   "outputs": [],
   "source": [],
   "metadata": {
    "collapsed": false
   }
  }
 ],
 "metadata": {
  "kernelspec": {
   "name": "dl",
   "language": "python",
   "display_name": "dl"
  },
  "language_info": {
   "codemirror_mode": {
    "name": "ipython",
    "version": 2
   },
   "file_extension": ".py",
   "mimetype": "text/x-python",
   "name": "python",
   "nbconvert_exporter": "python",
   "pygments_lexer": "ipython2",
   "version": "2.7.6"
  }
 },
 "nbformat": 4,
 "nbformat_minor": 0
}
